{
  "cells": [
    {
      "cell_type": "markdown",
      "metadata": {
        "id": "view-in-github",
        "colab_type": "text"
      },
      "source": [
        "<a href=\"https://colab.research.google.com/github/alinatl/ml_hw/blob/main/hw2.ipynb\" target=\"_parent\"><img src=\"https://colab.research.google.com/assets/colab-badge.svg\" alt=\"Open In Colab\"/></a>"
      ]
    },
    {
      "cell_type": "code",
      "source": [
        "import nltk\n",
        "nltk.download('punkt')\n",
        "nltk.download('stopwords')\n",
        "import string\n",
        "from nltk.stem import WordNetLemmatizer\n",
        "lemmatizer = WordNetLemmatizer()\n",
        "nltk.download('wordnet')\n",
        "nltk.download('omw-1.4')\n",
        "from nltk.tokenize import sent_tokenize, word_tokenize\n",
        "from nltk.corpus import stopwords\n",
        "stopWords = set(stopwords.words('english'))\n",
        "import math\n",
        "import matplotlib.pyplot as plt"
      ],
      "metadata": {
        "colab": {
          "base_uri": "https://localhost:8080/"
        },
        "id": "ijedyu6af8Y6",
        "outputId": "8d91f257-97d7-490f-98bd-c1790c5c2997"
      },
      "execution_count": 1,
      "outputs": [
        {
          "output_type": "stream",
          "name": "stderr",
          "text": [
            "[nltk_data] Downloading package punkt to /root/nltk_data...\n",
            "[nltk_data]   Unzipping tokenizers/punkt.zip.\n",
            "[nltk_data] Downloading package stopwords to /root/nltk_data...\n",
            "[nltk_data]   Unzipping corpora/stopwords.zip.\n",
            "[nltk_data] Downloading package wordnet to /root/nltk_data...\n",
            "[nltk_data] Downloading package omw-1.4 to /root/nltk_data...\n"
          ]
        }
      ]
    },
    {
      "cell_type": "markdown",
      "metadata": {
        "id": "t16jZll3R5fw"
      },
      "source": [
        "На этом занятии мы попробуем задачу регрессии. Данные в этой же папке, будем тренироваться на датасете фильмов с IMDB"
      ]
    },
    {
      "cell_type": "markdown",
      "metadata": {
        "id": "JPcnGs1JR5fz"
      },
      "source": [
        "Перед обучением обучением модели, нужно подготовить данные:\n",
        "\n",
        "- найти\\собрать данные\n",
        "- почистить и предобработать\n",
        "- преобразовать в матрицы \n"
      ]
    },
    {
      "cell_type": "code",
      "execution_count": 2,
      "metadata": {
        "tags": [],
        "id": "F5TyJBu2R5f0"
      },
      "outputs": [],
      "source": [
        "# импорты необходимых библиотек\n",
        "import pandas as pd\n",
        "\n",
        "import seaborn as sns\n",
        "import matplotlib.pyplot as plt\n",
        "# %matplotlib inline\n",
        "\n",
        "# import gensim\n",
        "from gensim.models.doc2vec import Doc2Vec, TaggedDocument\n",
        "from sklearn.linear_model import LinearRegression, Ridge, Lasso\n",
        "from sklearn.preprocessing import StandardScaler\n",
        "from sklearn.model_selection import train_test_split\n",
        "from sklearn.metrics import mean_absolute_error, mean_squared_error\n"
      ]
    },
    {
      "cell_type": "code",
      "execution_count": 3,
      "metadata": {
        "tags": [],
        "id": "qrJGOQVmR5f1",
        "colab": {
          "base_uri": "https://localhost:8080/",
          "height": 309
        },
        "outputId": "fe8d7730-3983-414b-e63f-11b8205b49cb"
      },
      "outputs": [
        {
          "output_type": "stream",
          "name": "stdout",
          "text": [
            "(1000, 12)\n"
          ]
        },
        {
          "output_type": "execute_result",
          "data": {
            "text/plain": [
              "   Rank                    Title                     Genre  \\\n",
              "0     1  Guardians of the Galaxy   Action,Adventure,Sci-Fi   \n",
              "1     2               Prometheus  Adventure,Mystery,Sci-Fi   \n",
              "2     3                    Split           Horror,Thriller   \n",
              "\n",
              "                                         Description            Director  \\\n",
              "0  A group of intergalactic criminals are forced ...          James Gunn   \n",
              "1  Following clues to the origin of mankind, a te...        Ridley Scott   \n",
              "2  Three girls are kidnapped by a man with a diag...  M. Night Shyamalan   \n",
              "\n",
              "                                              Actors  Year  Runtime (Minutes)  \\\n",
              "0  Chris Pratt, Vin Diesel, Bradley Cooper, Zoe S...  2014                121   \n",
              "1  Noomi Rapace, Logan Marshall-Green, Michael Fa...  2012                124   \n",
              "2  James McAvoy, Anya Taylor-Joy, Haley Lu Richar...  2016                117   \n",
              "\n",
              "   Rating   Votes  Revenue (Millions)  Metascore  \n",
              "0     8.1  757074              333.13       76.0  \n",
              "1     7.0  485820              126.46       65.0  \n",
              "2     7.3  157606              138.12       62.0  "
            ],
            "text/html": [
              "\n",
              "  <div id=\"df-0e097ba7-3414-4e07-974d-405fae17c1a8\">\n",
              "    <div class=\"colab-df-container\">\n",
              "      <div>\n",
              "<style scoped>\n",
              "    .dataframe tbody tr th:only-of-type {\n",
              "        vertical-align: middle;\n",
              "    }\n",
              "\n",
              "    .dataframe tbody tr th {\n",
              "        vertical-align: top;\n",
              "    }\n",
              "\n",
              "    .dataframe thead th {\n",
              "        text-align: right;\n",
              "    }\n",
              "</style>\n",
              "<table border=\"1\" class=\"dataframe\">\n",
              "  <thead>\n",
              "    <tr style=\"text-align: right;\">\n",
              "      <th></th>\n",
              "      <th>Rank</th>\n",
              "      <th>Title</th>\n",
              "      <th>Genre</th>\n",
              "      <th>Description</th>\n",
              "      <th>Director</th>\n",
              "      <th>Actors</th>\n",
              "      <th>Year</th>\n",
              "      <th>Runtime (Minutes)</th>\n",
              "      <th>Rating</th>\n",
              "      <th>Votes</th>\n",
              "      <th>Revenue (Millions)</th>\n",
              "      <th>Metascore</th>\n",
              "    </tr>\n",
              "  </thead>\n",
              "  <tbody>\n",
              "    <tr>\n",
              "      <th>0</th>\n",
              "      <td>1</td>\n",
              "      <td>Guardians of the Galaxy</td>\n",
              "      <td>Action,Adventure,Sci-Fi</td>\n",
              "      <td>A group of intergalactic criminals are forced ...</td>\n",
              "      <td>James Gunn</td>\n",
              "      <td>Chris Pratt, Vin Diesel, Bradley Cooper, Zoe S...</td>\n",
              "      <td>2014</td>\n",
              "      <td>121</td>\n",
              "      <td>8.1</td>\n",
              "      <td>757074</td>\n",
              "      <td>333.13</td>\n",
              "      <td>76.0</td>\n",
              "    </tr>\n",
              "    <tr>\n",
              "      <th>1</th>\n",
              "      <td>2</td>\n",
              "      <td>Prometheus</td>\n",
              "      <td>Adventure,Mystery,Sci-Fi</td>\n",
              "      <td>Following clues to the origin of mankind, a te...</td>\n",
              "      <td>Ridley Scott</td>\n",
              "      <td>Noomi Rapace, Logan Marshall-Green, Michael Fa...</td>\n",
              "      <td>2012</td>\n",
              "      <td>124</td>\n",
              "      <td>7.0</td>\n",
              "      <td>485820</td>\n",
              "      <td>126.46</td>\n",
              "      <td>65.0</td>\n",
              "    </tr>\n",
              "    <tr>\n",
              "      <th>2</th>\n",
              "      <td>3</td>\n",
              "      <td>Split</td>\n",
              "      <td>Horror,Thriller</td>\n",
              "      <td>Three girls are kidnapped by a man with a diag...</td>\n",
              "      <td>M. Night Shyamalan</td>\n",
              "      <td>James McAvoy, Anya Taylor-Joy, Haley Lu Richar...</td>\n",
              "      <td>2016</td>\n",
              "      <td>117</td>\n",
              "      <td>7.3</td>\n",
              "      <td>157606</td>\n",
              "      <td>138.12</td>\n",
              "      <td>62.0</td>\n",
              "    </tr>\n",
              "  </tbody>\n",
              "</table>\n",
              "</div>\n",
              "      <button class=\"colab-df-convert\" onclick=\"convertToInteractive('df-0e097ba7-3414-4e07-974d-405fae17c1a8')\"\n",
              "              title=\"Convert this dataframe to an interactive table.\"\n",
              "              style=\"display:none;\">\n",
              "        \n",
              "  <svg xmlns=\"http://www.w3.org/2000/svg\" height=\"24px\"viewBox=\"0 0 24 24\"\n",
              "       width=\"24px\">\n",
              "    <path d=\"M0 0h24v24H0V0z\" fill=\"none\"/>\n",
              "    <path d=\"M18.56 5.44l.94 2.06.94-2.06 2.06-.94-2.06-.94-.94-2.06-.94 2.06-2.06.94zm-11 1L8.5 8.5l.94-2.06 2.06-.94-2.06-.94L8.5 2.5l-.94 2.06-2.06.94zm10 10l.94 2.06.94-2.06 2.06-.94-2.06-.94-.94-2.06-.94 2.06-2.06.94z\"/><path d=\"M17.41 7.96l-1.37-1.37c-.4-.4-.92-.59-1.43-.59-.52 0-1.04.2-1.43.59L10.3 9.45l-7.72 7.72c-.78.78-.78 2.05 0 2.83L4 21.41c.39.39.9.59 1.41.59.51 0 1.02-.2 1.41-.59l7.78-7.78 2.81-2.81c.8-.78.8-2.07 0-2.86zM5.41 20L4 18.59l7.72-7.72 1.47 1.35L5.41 20z\"/>\n",
              "  </svg>\n",
              "      </button>\n",
              "      \n",
              "  <style>\n",
              "    .colab-df-container {\n",
              "      display:flex;\n",
              "      flex-wrap:wrap;\n",
              "      gap: 12px;\n",
              "    }\n",
              "\n",
              "    .colab-df-convert {\n",
              "      background-color: #E8F0FE;\n",
              "      border: none;\n",
              "      border-radius: 50%;\n",
              "      cursor: pointer;\n",
              "      display: none;\n",
              "      fill: #1967D2;\n",
              "      height: 32px;\n",
              "      padding: 0 0 0 0;\n",
              "      width: 32px;\n",
              "    }\n",
              "\n",
              "    .colab-df-convert:hover {\n",
              "      background-color: #E2EBFA;\n",
              "      box-shadow: 0px 1px 2px rgba(60, 64, 67, 0.3), 0px 1px 3px 1px rgba(60, 64, 67, 0.15);\n",
              "      fill: #174EA6;\n",
              "    }\n",
              "\n",
              "    [theme=dark] .colab-df-convert {\n",
              "      background-color: #3B4455;\n",
              "      fill: #D2E3FC;\n",
              "    }\n",
              "\n",
              "    [theme=dark] .colab-df-convert:hover {\n",
              "      background-color: #434B5C;\n",
              "      box-shadow: 0px 1px 3px 1px rgba(0, 0, 0, 0.15);\n",
              "      filter: drop-shadow(0px 1px 2px rgba(0, 0, 0, 0.3));\n",
              "      fill: #FFFFFF;\n",
              "    }\n",
              "  </style>\n",
              "\n",
              "      <script>\n",
              "        const buttonEl =\n",
              "          document.querySelector('#df-0e097ba7-3414-4e07-974d-405fae17c1a8 button.colab-df-convert');\n",
              "        buttonEl.style.display =\n",
              "          google.colab.kernel.accessAllowed ? 'block' : 'none';\n",
              "\n",
              "        async function convertToInteractive(key) {\n",
              "          const element = document.querySelector('#df-0e097ba7-3414-4e07-974d-405fae17c1a8');\n",
              "          const dataTable =\n",
              "            await google.colab.kernel.invokeFunction('convertToInteractive',\n",
              "                                                     [key], {});\n",
              "          if (!dataTable) return;\n",
              "\n",
              "          const docLinkHtml = 'Like what you see? Visit the ' +\n",
              "            '<a target=\"_blank\" href=https://colab.research.google.com/notebooks/data_table.ipynb>data table notebook</a>'\n",
              "            + ' to learn more about interactive tables.';\n",
              "          element.innerHTML = '';\n",
              "          dataTable['output_type'] = 'display_data';\n",
              "          await google.colab.output.renderOutput(dataTable, element);\n",
              "          const docLink = document.createElement('div');\n",
              "          docLink.innerHTML = docLinkHtml;\n",
              "          element.appendChild(docLink);\n",
              "        }\n",
              "      </script>\n",
              "    </div>\n",
              "  </div>\n",
              "  "
            ]
          },
          "metadata": {},
          "execution_count": 3
        }
      ],
      "source": [
        "data = pd.read_csv('IMDB-Movie-Data.csv')\n",
        "print(data.shape)\n",
        "\n",
        "data.head(3)"
      ]
    },
    {
      "cell_type": "markdown",
      "metadata": {
        "id": "O93PDLZlR5f1"
      },
      "source": [
        "## Что делать с NaN?\n",
        "Есть 3 варианта"
      ]
    },
    {
      "cell_type": "code",
      "execution_count": 4,
      "metadata": {
        "id": "S9R6Avd1R5f1",
        "colab": {
          "base_uri": "https://localhost:8080/"
        },
        "outputId": "3715ceb2-745c-4eb3-f0ad-5f833b454b77"
      },
      "outputs": [
        {
          "output_type": "stream",
          "name": "stdout",
          "text": [
            "Rank                  False\n",
            "Title                 False\n",
            "Genre                 False\n",
            "Description           False\n",
            "Director              False\n",
            "Actors                False\n",
            "Year                  False\n",
            "Runtime (Minutes)     False\n",
            "Rating                False\n",
            "Votes                 False\n",
            "Revenue (Millions)     True\n",
            "Metascore              True\n",
            "dtype: bool\n"
          ]
        },
        {
          "output_type": "execute_result",
          "data": {
            "text/plain": [
              "(1000, 12)"
            ]
          },
          "metadata": {},
          "execution_count": 4
        }
      ],
      "source": [
        "# 1. Убрать строки с NaN\n",
        "print(data.isna().any())\n",
        "data.shape"
      ]
    },
    {
      "cell_type": "code",
      "execution_count": 5,
      "metadata": {
        "id": "6EN40MCrR5f2",
        "colab": {
          "base_uri": "https://localhost:8080/"
        },
        "outputId": "c4d193a0-80f7-4d58-df5a-0dfbf5a62a67"
      },
      "outputs": [
        {
          "output_type": "stream",
          "name": "stdout",
          "text": [
            "(1000, 12)\n"
          ]
        },
        {
          "output_type": "execute_result",
          "data": {
            "text/plain": [
              "(838, 12)"
            ]
          },
          "metadata": {},
          "execution_count": 5
        }
      ],
      "source": [
        "print(data.shape)\n",
        "tmp = data.dropna()\n",
        "tmp.shape"
      ]
    },
    {
      "cell_type": "code",
      "execution_count": 6,
      "metadata": {
        "id": "LkwHb6IAR5f2",
        "colab": {
          "base_uri": "https://localhost:8080/"
        },
        "outputId": "8ee8c983-7a6f-4205-da1a-cf2fad3eacd9"
      },
      "outputs": [
        {
          "output_type": "stream",
          "name": "stdout",
          "text": [
            "(1000, 12)\n",
            "(1000, 12)\n"
          ]
        }
      ],
      "source": [
        "# 2. Превратить NaN в 0\n",
        "print(data.shape)\n",
        "tmp = data.fillna(0)\n",
        "print(tmp.shape)"
      ]
    },
    {
      "cell_type": "code",
      "execution_count": 7,
      "metadata": {
        "tags": [],
        "id": "2psR8cdwR5f2",
        "colab": {
          "base_uri": "https://localhost:8080/"
        },
        "outputId": "c97ba62b-7030-4e7d-cdea-7fded83f9cf9"
      },
      "outputs": [
        {
          "output_type": "execute_result",
          "data": {
            "text/plain": [
              "Rank                  False\n",
              "Title                 False\n",
              "Genre                 False\n",
              "Description           False\n",
              "Director              False\n",
              "Actors                False\n",
              "Year                  False\n",
              "Runtime (Minutes)     False\n",
              "Rating                False\n",
              "Votes                 False\n",
              "Revenue (Millions)    False\n",
              "Metascore             False\n",
              "dtype: bool"
            ]
          },
          "metadata": {},
          "execution_count": 7
        }
      ],
      "source": [
        "# 3. Превратить NaN в средние значения по колонке\n",
        "\n",
        "# вычисляем средние для колонок с пустыми значениями\n",
        "meta_mean = data.Metascore.mean()\n",
        "rev_mean = data['Revenue (Millions)'].mean()\n",
        "\n",
        "#заменяем пустоты на средние значения\n",
        "data.Metascore.fillna(meta_mean, inplace=True)\n",
        "data['Revenue (Millions)'].fillna(rev_mean, inplace=True)\n",
        "\n",
        "# проверяем присутствие NaN\n",
        "data.isna().any()"
      ]
    },
    {
      "cell_type": "markdown",
      "metadata": {
        "id": "_i1ID1PQR5f3"
      },
      "source": [
        "## Подготовка данных\n",
        "\n",
        "Попробуем предсказывать рейтинг фильма по данным его описания, года, длины в минутах и кассовых сборов\n",
        "\n",
        "Колонка \"Rating\" станет **целевой переменной, или таргетом** (y)<br>\n",
        "Остальных данные будут **обучающей выборкой** (X)"
      ]
    },
    {
      "cell_type": "code",
      "execution_count": 8,
      "metadata": {
        "id": "zS4LG3FVR5f3",
        "colab": {
          "base_uri": "https://localhost:8080/"
        },
        "outputId": "f5eedf37-8644-4b00-aad3-42eec356771d"
      },
      "outputs": [
        {
          "output_type": "execute_result",
          "data": {
            "text/plain": [
              "0      A group of intergalactic criminals are forced ...\n",
              "1      Following clues to the origin of mankind, a te...\n",
              "2      Three girls are kidnapped by a man with a diag...\n",
              "3      In a city of humanoid animals, a hustling thea...\n",
              "4      A secret government agency recruits some of th...\n",
              "                             ...                        \n",
              "995    A tight-knit team of rising investigators, alo...\n",
              "996    Three American college students studying abroa...\n",
              "997    Romantic sparks occur between two dance studen...\n",
              "998    A pair of friends embark on a mission to reuni...\n",
              "999    A stuffy businessman finds himself trapped ins...\n",
              "Name: Description, Length: 1000, dtype: object"
            ]
          },
          "metadata": {},
          "execution_count": 8
        }
      ],
      "source": [
        "data.Description"
      ]
    },
    {
      "cell_type": "code",
      "execution_count": 9,
      "metadata": {
        "tags": [],
        "id": "YJwHln3JR5f3",
        "colab": {
          "base_uri": "https://localhost:8080/"
        },
        "outputId": "1b7bfb3d-636a-4a3b-e6a7-520fb2b75157"
      },
      "outputs": [
        {
          "output_type": "execute_result",
          "data": {
            "text/plain": [
              "0      [a, group, of, intergalactic, criminals, are, ...\n",
              "1      [following, clues, to, the, origin, of, mankin...\n",
              "2      [three, girls, are, kidnapped, by, a, man, wit...\n",
              "3      [in, a, city, of, humanoid, animals,, a, hustl...\n",
              "4      [a, secret, government, agency, recruits, some...\n",
              "                             ...                        \n",
              "995    [a, tight-knit, team, of, rising, investigator...\n",
              "996    [three, american, college, students, studying,...\n",
              "997    [romantic, sparks, occur, between, two, dance,...\n",
              "998    [a, pair, of, friends, embark, on, a, mission,...\n",
              "999    [a, stuffy, businessman, finds, himself, trapp...\n",
              "Name: text, Length: 1000, dtype: object"
            ]
          },
          "metadata": {},
          "execution_count": 9
        }
      ],
      "source": [
        "# подготовим описания фильмов\n",
        "data[\"text\"] = data.Description.apply(lambda x: x.lower().split()) \n",
        "\n",
        "data[\"text\"]"
      ]
    },
    {
      "cell_type": "code",
      "execution_count": null,
      "metadata": {
        "tags": [],
        "id": "f6ahGY4lR5f3"
      },
      "outputs": [],
      "source": [
        "data.text.values"
      ]
    },
    {
      "cell_type": "code",
      "execution_count": 11,
      "metadata": {
        "tags": [],
        "id": "nwuG0Fc3R5f3"
      },
      "outputs": [],
      "source": [
        "input_text = list(data.text.values)"
      ]
    },
    {
      "cell_type": "code",
      "execution_count": 12,
      "metadata": {
        "tags": [],
        "id": "Oti1iB1gR5f4",
        "colab": {
          "base_uri": "https://localhost:8080/"
        },
        "outputId": "7871a49c-9ddf-4473-9ee7-67e6f9aec37b"
      },
      "outputs": [
        {
          "output_type": "execute_result",
          "data": {
            "text/plain": [
              "[TaggedDocument(words=['the', 'adventures', 'of', 'writer', 'newt', 'scamander', 'in', 'new', \"york's\", 'secret', 'community', 'of', 'witches', 'and', 'wizards', 'seventy', 'years', 'before', 'harry', 'potter', 'reads', 'his', 'book', 'in', 'school.'], tags=[10]),\n",
              " TaggedDocument(words=['the', 'story', 'of', 'a', 'team', 'of', 'female', 'african-american', 'mathematicians', 'who', 'served', 'a', 'vital', 'role', 'in', 'nasa', 'during', 'the', 'early', 'years', 'of', 'the', 'u.s.', 'space', 'program.'], tags=[11])]"
            ]
          },
          "metadata": {},
          "execution_count": 12
        }
      ],
      "source": [
        "documents = [TaggedDocument(doc, [i]) for i, doc in enumerate(input_text)]\n",
        "documents[10:12]"
      ]
    },
    {
      "cell_type": "markdown",
      "metadata": {
        "id": "dMKfmV8mR5f4"
      },
      "source": [
        "обучаем модель на текстах описаний фильмов (можно поизменять параметры)"
      ]
    },
    {
      "cell_type": "code",
      "execution_count": 13,
      "metadata": {
        "id": "1eI1oAbkR5f4",
        "colab": {
          "base_uri": "https://localhost:8080/"
        },
        "outputId": "3c9f7b8d-733f-4992-c840-92c3227a3beb"
      },
      "outputs": [
        {
          "output_type": "stream",
          "name": "stderr",
          "text": [
            "WARNING:gensim.models.base_any2vec:consider setting layer size to a multiple of 4 for greater performance\n",
            "WARNING:gensim.models.base_any2vec:under 10 jobs per worker: consider setting a smaller `batch_words' for smoother alpha decay\n"
          ]
        }
      ],
      "source": [
        "model = Doc2Vec(documents, vector_size=5, window=2, min_count=1, workers=4)"
      ]
    },
    {
      "cell_type": "code",
      "execution_count": null,
      "metadata": {
        "id": "Uiqd8oyxR5f4"
      },
      "outputs": [],
      "source": [
        "model.save(\"D2V.model\") # сохранение модели"
      ]
    },
    {
      "cell_type": "code",
      "execution_count": 14,
      "metadata": {
        "id": "skh3LKs6R5f4",
        "colab": {
          "base_uri": "https://localhost:8080/"
        },
        "outputId": "332bccd4-8a37-46e9-d6f3-cedaa654f73b"
      },
      "outputs": [
        {
          "output_type": "execute_result",
          "data": {
            "text/plain": [
              "array([-0.08786903, -0.06978936,  0.06302686,  0.05867736, -0.08927106],\n",
              "      dtype=float32)"
            ]
          },
          "metadata": {},
          "execution_count": 14
        }
      ],
      "source": [
        "# так можно посмотреть на векторы текстов, на которых училась модель\n",
        "# индекс [] около documents -- это индекс текста из датасета\n",
        "\n",
        "model[documents[0].tags[0]]\n"
      ]
    },
    {
      "cell_type": "markdown",
      "metadata": {
        "id": "KIxXmhbQR5f4"
      },
      "source": [
        "Теперь нужно добавить векторы в датасет с остальными параметрами"
      ]
    },
    {
      "cell_type": "code",
      "execution_count": 15,
      "metadata": {
        "id": "_NOvbpq8R5f5"
      },
      "outputs": [],
      "source": [
        "# создадим список с векторами для каждого текста\n",
        "vectors = []\n",
        "for x in documents:\n",
        "    vec = list(model[x.tags][0])\n",
        "    vectors.append(vec)"
      ]
    },
    {
      "cell_type": "code",
      "execution_count": 16,
      "metadata": {
        "tags": [],
        "id": "m--hJ5XGR5f5",
        "colab": {
          "base_uri": "https://localhost:8080/",
          "height": 423
        },
        "outputId": "0aca199e-e6ea-435e-c5a2-b3330df955c7"
      },
      "outputs": [
        {
          "output_type": "execute_result",
          "data": {
            "text/plain": [
              "           v1        v2        v3        v4        v5\n",
              "0   -0.087869 -0.069789  0.063027  0.058677 -0.089271\n",
              "1   -0.012825  0.038783  0.074296 -0.024311 -0.126780\n",
              "2   -0.122349 -0.050147  0.042454 -0.119388 -0.123546\n",
              "3   -0.117587 -0.009491 -0.078312 -0.204445 -0.049120\n",
              "4   -0.034326 -0.089238 -0.035161  0.000544 -0.097287\n",
              "..        ...       ...       ...       ...       ...\n",
              "995 -0.089425 -0.164598  0.038575 -0.183571 -0.139259\n",
              "996  0.004840 -0.046548 -0.044319 -0.036256 -0.019382\n",
              "997 -0.145712 -0.039303 -0.100523 -0.010981  0.020828\n",
              "998 -0.048197 -0.077285 -0.043909 -0.022356 -0.051014\n",
              "999 -0.001452 -0.072548 -0.088201  0.012202  0.024790\n",
              "\n",
              "[1000 rows x 5 columns]"
            ],
            "text/html": [
              "\n",
              "  <div id=\"df-4b989f1d-5d98-454f-8550-e2ad91ed40f8\">\n",
              "    <div class=\"colab-df-container\">\n",
              "      <div>\n",
              "<style scoped>\n",
              "    .dataframe tbody tr th:only-of-type {\n",
              "        vertical-align: middle;\n",
              "    }\n",
              "\n",
              "    .dataframe tbody tr th {\n",
              "        vertical-align: top;\n",
              "    }\n",
              "\n",
              "    .dataframe thead th {\n",
              "        text-align: right;\n",
              "    }\n",
              "</style>\n",
              "<table border=\"1\" class=\"dataframe\">\n",
              "  <thead>\n",
              "    <tr style=\"text-align: right;\">\n",
              "      <th></th>\n",
              "      <th>v1</th>\n",
              "      <th>v2</th>\n",
              "      <th>v3</th>\n",
              "      <th>v4</th>\n",
              "      <th>v5</th>\n",
              "    </tr>\n",
              "  </thead>\n",
              "  <tbody>\n",
              "    <tr>\n",
              "      <th>0</th>\n",
              "      <td>-0.087869</td>\n",
              "      <td>-0.069789</td>\n",
              "      <td>0.063027</td>\n",
              "      <td>0.058677</td>\n",
              "      <td>-0.089271</td>\n",
              "    </tr>\n",
              "    <tr>\n",
              "      <th>1</th>\n",
              "      <td>-0.012825</td>\n",
              "      <td>0.038783</td>\n",
              "      <td>0.074296</td>\n",
              "      <td>-0.024311</td>\n",
              "      <td>-0.126780</td>\n",
              "    </tr>\n",
              "    <tr>\n",
              "      <th>2</th>\n",
              "      <td>-0.122349</td>\n",
              "      <td>-0.050147</td>\n",
              "      <td>0.042454</td>\n",
              "      <td>-0.119388</td>\n",
              "      <td>-0.123546</td>\n",
              "    </tr>\n",
              "    <tr>\n",
              "      <th>3</th>\n",
              "      <td>-0.117587</td>\n",
              "      <td>-0.009491</td>\n",
              "      <td>-0.078312</td>\n",
              "      <td>-0.204445</td>\n",
              "      <td>-0.049120</td>\n",
              "    </tr>\n",
              "    <tr>\n",
              "      <th>4</th>\n",
              "      <td>-0.034326</td>\n",
              "      <td>-0.089238</td>\n",
              "      <td>-0.035161</td>\n",
              "      <td>0.000544</td>\n",
              "      <td>-0.097287</td>\n",
              "    </tr>\n",
              "    <tr>\n",
              "      <th>...</th>\n",
              "      <td>...</td>\n",
              "      <td>...</td>\n",
              "      <td>...</td>\n",
              "      <td>...</td>\n",
              "      <td>...</td>\n",
              "    </tr>\n",
              "    <tr>\n",
              "      <th>995</th>\n",
              "      <td>-0.089425</td>\n",
              "      <td>-0.164598</td>\n",
              "      <td>0.038575</td>\n",
              "      <td>-0.183571</td>\n",
              "      <td>-0.139259</td>\n",
              "    </tr>\n",
              "    <tr>\n",
              "      <th>996</th>\n",
              "      <td>0.004840</td>\n",
              "      <td>-0.046548</td>\n",
              "      <td>-0.044319</td>\n",
              "      <td>-0.036256</td>\n",
              "      <td>-0.019382</td>\n",
              "    </tr>\n",
              "    <tr>\n",
              "      <th>997</th>\n",
              "      <td>-0.145712</td>\n",
              "      <td>-0.039303</td>\n",
              "      <td>-0.100523</td>\n",
              "      <td>-0.010981</td>\n",
              "      <td>0.020828</td>\n",
              "    </tr>\n",
              "    <tr>\n",
              "      <th>998</th>\n",
              "      <td>-0.048197</td>\n",
              "      <td>-0.077285</td>\n",
              "      <td>-0.043909</td>\n",
              "      <td>-0.022356</td>\n",
              "      <td>-0.051014</td>\n",
              "    </tr>\n",
              "    <tr>\n",
              "      <th>999</th>\n",
              "      <td>-0.001452</td>\n",
              "      <td>-0.072548</td>\n",
              "      <td>-0.088201</td>\n",
              "      <td>0.012202</td>\n",
              "      <td>0.024790</td>\n",
              "    </tr>\n",
              "  </tbody>\n",
              "</table>\n",
              "<p>1000 rows × 5 columns</p>\n",
              "</div>\n",
              "      <button class=\"colab-df-convert\" onclick=\"convertToInteractive('df-4b989f1d-5d98-454f-8550-e2ad91ed40f8')\"\n",
              "              title=\"Convert this dataframe to an interactive table.\"\n",
              "              style=\"display:none;\">\n",
              "        \n",
              "  <svg xmlns=\"http://www.w3.org/2000/svg\" height=\"24px\"viewBox=\"0 0 24 24\"\n",
              "       width=\"24px\">\n",
              "    <path d=\"M0 0h24v24H0V0z\" fill=\"none\"/>\n",
              "    <path d=\"M18.56 5.44l.94 2.06.94-2.06 2.06-.94-2.06-.94-.94-2.06-.94 2.06-2.06.94zm-11 1L8.5 8.5l.94-2.06 2.06-.94-2.06-.94L8.5 2.5l-.94 2.06-2.06.94zm10 10l.94 2.06.94-2.06 2.06-.94-2.06-.94-.94-2.06-.94 2.06-2.06.94z\"/><path d=\"M17.41 7.96l-1.37-1.37c-.4-.4-.92-.59-1.43-.59-.52 0-1.04.2-1.43.59L10.3 9.45l-7.72 7.72c-.78.78-.78 2.05 0 2.83L4 21.41c.39.39.9.59 1.41.59.51 0 1.02-.2 1.41-.59l7.78-7.78 2.81-2.81c.8-.78.8-2.07 0-2.86zM5.41 20L4 18.59l7.72-7.72 1.47 1.35L5.41 20z\"/>\n",
              "  </svg>\n",
              "      </button>\n",
              "      \n",
              "  <style>\n",
              "    .colab-df-container {\n",
              "      display:flex;\n",
              "      flex-wrap:wrap;\n",
              "      gap: 12px;\n",
              "    }\n",
              "\n",
              "    .colab-df-convert {\n",
              "      background-color: #E8F0FE;\n",
              "      border: none;\n",
              "      border-radius: 50%;\n",
              "      cursor: pointer;\n",
              "      display: none;\n",
              "      fill: #1967D2;\n",
              "      height: 32px;\n",
              "      padding: 0 0 0 0;\n",
              "      width: 32px;\n",
              "    }\n",
              "\n",
              "    .colab-df-convert:hover {\n",
              "      background-color: #E2EBFA;\n",
              "      box-shadow: 0px 1px 2px rgba(60, 64, 67, 0.3), 0px 1px 3px 1px rgba(60, 64, 67, 0.15);\n",
              "      fill: #174EA6;\n",
              "    }\n",
              "\n",
              "    [theme=dark] .colab-df-convert {\n",
              "      background-color: #3B4455;\n",
              "      fill: #D2E3FC;\n",
              "    }\n",
              "\n",
              "    [theme=dark] .colab-df-convert:hover {\n",
              "      background-color: #434B5C;\n",
              "      box-shadow: 0px 1px 3px 1px rgba(0, 0, 0, 0.15);\n",
              "      filter: drop-shadow(0px 1px 2px rgba(0, 0, 0, 0.3));\n",
              "      fill: #FFFFFF;\n",
              "    }\n",
              "  </style>\n",
              "\n",
              "      <script>\n",
              "        const buttonEl =\n",
              "          document.querySelector('#df-4b989f1d-5d98-454f-8550-e2ad91ed40f8 button.colab-df-convert');\n",
              "        buttonEl.style.display =\n",
              "          google.colab.kernel.accessAllowed ? 'block' : 'none';\n",
              "\n",
              "        async function convertToInteractive(key) {\n",
              "          const element = document.querySelector('#df-4b989f1d-5d98-454f-8550-e2ad91ed40f8');\n",
              "          const dataTable =\n",
              "            await google.colab.kernel.invokeFunction('convertToInteractive',\n",
              "                                                     [key], {});\n",
              "          if (!dataTable) return;\n",
              "\n",
              "          const docLinkHtml = 'Like what you see? Visit the ' +\n",
              "            '<a target=\"_blank\" href=https://colab.research.google.com/notebooks/data_table.ipynb>data table notebook</a>'\n",
              "            + ' to learn more about interactive tables.';\n",
              "          element.innerHTML = '';\n",
              "          dataTable['output_type'] = 'display_data';\n",
              "          await google.colab.output.renderOutput(dataTable, element);\n",
              "          const docLink = document.createElement('div');\n",
              "          docLink.innerHTML = docLinkHtml;\n",
              "          element.appendChild(docLink);\n",
              "        }\n",
              "      </script>\n",
              "    </div>\n",
              "  </div>\n",
              "  "
            ]
          },
          "metadata": {},
          "execution_count": 16
        }
      ],
      "source": [
        "# так получим датафрейм, где все компоненты векторов в отдельных столбцах\n",
        "split_df = pd.DataFrame(vectors,\n",
        "                        columns=['v1', 'v2', 'v3','v4',\"v5\"])\n",
        "\n",
        "split_df\n"
      ]
    },
    {
      "cell_type": "code",
      "execution_count": 17,
      "metadata": {
        "id": "bv-INQBWR5f5",
        "colab": {
          "base_uri": "https://localhost:8080/"
        },
        "outputId": "62451713-e477-4227-e081-10137129828c"
      },
      "outputs": [
        {
          "output_type": "execute_result",
          "data": {
            "text/plain": [
              "(1000, 18)"
            ]
          },
          "metadata": {},
          "execution_count": 17
        }
      ],
      "source": [
        "# теперь добавим его к основному датафрейму\n",
        "result = data.join(split_df, how='left')\n",
        "result.shape"
      ]
    },
    {
      "cell_type": "code",
      "execution_count": 18,
      "metadata": {
        "id": "A8BpW3ohR5f5",
        "colab": {
          "base_uri": "https://localhost:8080/",
          "height": 1000
        },
        "outputId": "38cb46b2-151f-4a75-f56f-bf7db1c224d5"
      },
      "outputs": [
        {
          "output_type": "execute_result",
          "data": {
            "text/plain": [
              "     Rank                    Title                     Genre  \\\n",
              "0       1  Guardians of the Galaxy   Action,Adventure,Sci-Fi   \n",
              "1       2               Prometheus  Adventure,Mystery,Sci-Fi   \n",
              "2       3                    Split           Horror,Thriller   \n",
              "3       4                     Sing   Animation,Comedy,Family   \n",
              "4       5            Suicide Squad  Action,Adventure,Fantasy   \n",
              "..    ...                      ...                       ...   \n",
              "995   996     Secret in Their Eyes       Crime,Drama,Mystery   \n",
              "996   997          Hostel: Part II                    Horror   \n",
              "997   998   Step Up 2: The Streets       Drama,Music,Romance   \n",
              "998   999             Search Party          Adventure,Comedy   \n",
              "999  1000               Nine Lives     Comedy,Family,Fantasy   \n",
              "\n",
              "                                           Description              Director  \\\n",
              "0    A group of intergalactic criminals are forced ...            James Gunn   \n",
              "1    Following clues to the origin of mankind, a te...          Ridley Scott   \n",
              "2    Three girls are kidnapped by a man with a diag...    M. Night Shyamalan   \n",
              "3    In a city of humanoid animals, a hustling thea...  Christophe Lourdelet   \n",
              "4    A secret government agency recruits some of th...            David Ayer   \n",
              "..                                                 ...                   ...   \n",
              "995  A tight-knit team of rising investigators, alo...             Billy Ray   \n",
              "996  Three American college students studying abroa...              Eli Roth   \n",
              "997  Romantic sparks occur between two dance studen...            Jon M. Chu   \n",
              "998  A pair of friends embark on a mission to reuni...        Scot Armstrong   \n",
              "999  A stuffy businessman finds himself trapped ins...      Barry Sonnenfeld   \n",
              "\n",
              "                                                Actors  Year  \\\n",
              "0    Chris Pratt, Vin Diesel, Bradley Cooper, Zoe S...  2014   \n",
              "1    Noomi Rapace, Logan Marshall-Green, Michael Fa...  2012   \n",
              "2    James McAvoy, Anya Taylor-Joy, Haley Lu Richar...  2016   \n",
              "3    Matthew McConaughey,Reese Witherspoon, Seth Ma...  2016   \n",
              "4    Will Smith, Jared Leto, Margot Robbie, Viola D...  2016   \n",
              "..                                                 ...   ...   \n",
              "995  Chiwetel Ejiofor, Nicole Kidman, Julia Roberts...  2015   \n",
              "996  Lauren German, Heather Matarazzo, Bijou Philli...  2007   \n",
              "997  Robert Hoffman, Briana Evigan, Cassie Ventura,...  2008   \n",
              "998  Adam Pally, T.J. Miller, Thomas Middleditch,Sh...  2014   \n",
              "999  Kevin Spacey, Jennifer Garner, Robbie Amell,Ch...  2016   \n",
              "\n",
              "     Runtime (Minutes)  Rating   Votes  Revenue (Millions)  Metascore  \\\n",
              "0                  121     8.1  757074          333.130000       76.0   \n",
              "1                  124     7.0  485820          126.460000       65.0   \n",
              "2                  117     7.3  157606          138.120000       62.0   \n",
              "3                  108     7.2   60545          270.320000       59.0   \n",
              "4                  123     6.2  393727          325.020000       40.0   \n",
              "..                 ...     ...     ...                 ...        ...   \n",
              "995                111     6.2   27585           82.956376       45.0   \n",
              "996                 94     5.5   73152           17.540000       46.0   \n",
              "997                 98     6.2   70699           58.010000       50.0   \n",
              "998                 93     5.6    4881           82.956376       22.0   \n",
              "999                 87     5.3   12435           19.640000       11.0   \n",
              "\n",
              "                                                  text        v1        v2  \\\n",
              "0    [a, group, of, intergalactic, criminals, are, ... -0.087869 -0.069789   \n",
              "1    [following, clues, to, the, origin, of, mankin... -0.012825  0.038783   \n",
              "2    [three, girls, are, kidnapped, by, a, man, wit... -0.122349 -0.050147   \n",
              "3    [in, a, city, of, humanoid, animals,, a, hustl... -0.117587 -0.009491   \n",
              "4    [a, secret, government, agency, recruits, some... -0.034326 -0.089238   \n",
              "..                                                 ...       ...       ...   \n",
              "995  [a, tight-knit, team, of, rising, investigator... -0.089425 -0.164598   \n",
              "996  [three, american, college, students, studying,...  0.004840 -0.046548   \n",
              "997  [romantic, sparks, occur, between, two, dance,... -0.145712 -0.039303   \n",
              "998  [a, pair, of, friends, embark, on, a, mission,... -0.048197 -0.077285   \n",
              "999  [a, stuffy, businessman, finds, himself, trapp... -0.001452 -0.072548   \n",
              "\n",
              "           v3        v4        v5  \n",
              "0    0.063027  0.058677 -0.089271  \n",
              "1    0.074296 -0.024311 -0.126780  \n",
              "2    0.042454 -0.119388 -0.123546  \n",
              "3   -0.078312 -0.204445 -0.049120  \n",
              "4   -0.035161  0.000544 -0.097287  \n",
              "..        ...       ...       ...  \n",
              "995  0.038575 -0.183571 -0.139259  \n",
              "996 -0.044319 -0.036256 -0.019382  \n",
              "997 -0.100523 -0.010981  0.020828  \n",
              "998 -0.043909 -0.022356 -0.051014  \n",
              "999 -0.088201  0.012202  0.024790  \n",
              "\n",
              "[1000 rows x 18 columns]"
            ],
            "text/html": [
              "\n",
              "  <div id=\"df-b051e436-0de3-4966-81af-bf85967cfa52\">\n",
              "    <div class=\"colab-df-container\">\n",
              "      <div>\n",
              "<style scoped>\n",
              "    .dataframe tbody tr th:only-of-type {\n",
              "        vertical-align: middle;\n",
              "    }\n",
              "\n",
              "    .dataframe tbody tr th {\n",
              "        vertical-align: top;\n",
              "    }\n",
              "\n",
              "    .dataframe thead th {\n",
              "        text-align: right;\n",
              "    }\n",
              "</style>\n",
              "<table border=\"1\" class=\"dataframe\">\n",
              "  <thead>\n",
              "    <tr style=\"text-align: right;\">\n",
              "      <th></th>\n",
              "      <th>Rank</th>\n",
              "      <th>Title</th>\n",
              "      <th>Genre</th>\n",
              "      <th>Description</th>\n",
              "      <th>Director</th>\n",
              "      <th>Actors</th>\n",
              "      <th>Year</th>\n",
              "      <th>Runtime (Minutes)</th>\n",
              "      <th>Rating</th>\n",
              "      <th>Votes</th>\n",
              "      <th>Revenue (Millions)</th>\n",
              "      <th>Metascore</th>\n",
              "      <th>text</th>\n",
              "      <th>v1</th>\n",
              "      <th>v2</th>\n",
              "      <th>v3</th>\n",
              "      <th>v4</th>\n",
              "      <th>v5</th>\n",
              "    </tr>\n",
              "  </thead>\n",
              "  <tbody>\n",
              "    <tr>\n",
              "      <th>0</th>\n",
              "      <td>1</td>\n",
              "      <td>Guardians of the Galaxy</td>\n",
              "      <td>Action,Adventure,Sci-Fi</td>\n",
              "      <td>A group of intergalactic criminals are forced ...</td>\n",
              "      <td>James Gunn</td>\n",
              "      <td>Chris Pratt, Vin Diesel, Bradley Cooper, Zoe S...</td>\n",
              "      <td>2014</td>\n",
              "      <td>121</td>\n",
              "      <td>8.1</td>\n",
              "      <td>757074</td>\n",
              "      <td>333.130000</td>\n",
              "      <td>76.0</td>\n",
              "      <td>[a, group, of, intergalactic, criminals, are, ...</td>\n",
              "      <td>-0.087869</td>\n",
              "      <td>-0.069789</td>\n",
              "      <td>0.063027</td>\n",
              "      <td>0.058677</td>\n",
              "      <td>-0.089271</td>\n",
              "    </tr>\n",
              "    <tr>\n",
              "      <th>1</th>\n",
              "      <td>2</td>\n",
              "      <td>Prometheus</td>\n",
              "      <td>Adventure,Mystery,Sci-Fi</td>\n",
              "      <td>Following clues to the origin of mankind, a te...</td>\n",
              "      <td>Ridley Scott</td>\n",
              "      <td>Noomi Rapace, Logan Marshall-Green, Michael Fa...</td>\n",
              "      <td>2012</td>\n",
              "      <td>124</td>\n",
              "      <td>7.0</td>\n",
              "      <td>485820</td>\n",
              "      <td>126.460000</td>\n",
              "      <td>65.0</td>\n",
              "      <td>[following, clues, to, the, origin, of, mankin...</td>\n",
              "      <td>-0.012825</td>\n",
              "      <td>0.038783</td>\n",
              "      <td>0.074296</td>\n",
              "      <td>-0.024311</td>\n",
              "      <td>-0.126780</td>\n",
              "    </tr>\n",
              "    <tr>\n",
              "      <th>2</th>\n",
              "      <td>3</td>\n",
              "      <td>Split</td>\n",
              "      <td>Horror,Thriller</td>\n",
              "      <td>Three girls are kidnapped by a man with a diag...</td>\n",
              "      <td>M. Night Shyamalan</td>\n",
              "      <td>James McAvoy, Anya Taylor-Joy, Haley Lu Richar...</td>\n",
              "      <td>2016</td>\n",
              "      <td>117</td>\n",
              "      <td>7.3</td>\n",
              "      <td>157606</td>\n",
              "      <td>138.120000</td>\n",
              "      <td>62.0</td>\n",
              "      <td>[three, girls, are, kidnapped, by, a, man, wit...</td>\n",
              "      <td>-0.122349</td>\n",
              "      <td>-0.050147</td>\n",
              "      <td>0.042454</td>\n",
              "      <td>-0.119388</td>\n",
              "      <td>-0.123546</td>\n",
              "    </tr>\n",
              "    <tr>\n",
              "      <th>3</th>\n",
              "      <td>4</td>\n",
              "      <td>Sing</td>\n",
              "      <td>Animation,Comedy,Family</td>\n",
              "      <td>In a city of humanoid animals, a hustling thea...</td>\n",
              "      <td>Christophe Lourdelet</td>\n",
              "      <td>Matthew McConaughey,Reese Witherspoon, Seth Ma...</td>\n",
              "      <td>2016</td>\n",
              "      <td>108</td>\n",
              "      <td>7.2</td>\n",
              "      <td>60545</td>\n",
              "      <td>270.320000</td>\n",
              "      <td>59.0</td>\n",
              "      <td>[in, a, city, of, humanoid, animals,, a, hustl...</td>\n",
              "      <td>-0.117587</td>\n",
              "      <td>-0.009491</td>\n",
              "      <td>-0.078312</td>\n",
              "      <td>-0.204445</td>\n",
              "      <td>-0.049120</td>\n",
              "    </tr>\n",
              "    <tr>\n",
              "      <th>4</th>\n",
              "      <td>5</td>\n",
              "      <td>Suicide Squad</td>\n",
              "      <td>Action,Adventure,Fantasy</td>\n",
              "      <td>A secret government agency recruits some of th...</td>\n",
              "      <td>David Ayer</td>\n",
              "      <td>Will Smith, Jared Leto, Margot Robbie, Viola D...</td>\n",
              "      <td>2016</td>\n",
              "      <td>123</td>\n",
              "      <td>6.2</td>\n",
              "      <td>393727</td>\n",
              "      <td>325.020000</td>\n",
              "      <td>40.0</td>\n",
              "      <td>[a, secret, government, agency, recruits, some...</td>\n",
              "      <td>-0.034326</td>\n",
              "      <td>-0.089238</td>\n",
              "      <td>-0.035161</td>\n",
              "      <td>0.000544</td>\n",
              "      <td>-0.097287</td>\n",
              "    </tr>\n",
              "    <tr>\n",
              "      <th>...</th>\n",
              "      <td>...</td>\n",
              "      <td>...</td>\n",
              "      <td>...</td>\n",
              "      <td>...</td>\n",
              "      <td>...</td>\n",
              "      <td>...</td>\n",
              "      <td>...</td>\n",
              "      <td>...</td>\n",
              "      <td>...</td>\n",
              "      <td>...</td>\n",
              "      <td>...</td>\n",
              "      <td>...</td>\n",
              "      <td>...</td>\n",
              "      <td>...</td>\n",
              "      <td>...</td>\n",
              "      <td>...</td>\n",
              "      <td>...</td>\n",
              "      <td>...</td>\n",
              "    </tr>\n",
              "    <tr>\n",
              "      <th>995</th>\n",
              "      <td>996</td>\n",
              "      <td>Secret in Their Eyes</td>\n",
              "      <td>Crime,Drama,Mystery</td>\n",
              "      <td>A tight-knit team of rising investigators, alo...</td>\n",
              "      <td>Billy Ray</td>\n",
              "      <td>Chiwetel Ejiofor, Nicole Kidman, Julia Roberts...</td>\n",
              "      <td>2015</td>\n",
              "      <td>111</td>\n",
              "      <td>6.2</td>\n",
              "      <td>27585</td>\n",
              "      <td>82.956376</td>\n",
              "      <td>45.0</td>\n",
              "      <td>[a, tight-knit, team, of, rising, investigator...</td>\n",
              "      <td>-0.089425</td>\n",
              "      <td>-0.164598</td>\n",
              "      <td>0.038575</td>\n",
              "      <td>-0.183571</td>\n",
              "      <td>-0.139259</td>\n",
              "    </tr>\n",
              "    <tr>\n",
              "      <th>996</th>\n",
              "      <td>997</td>\n",
              "      <td>Hostel: Part II</td>\n",
              "      <td>Horror</td>\n",
              "      <td>Three American college students studying abroa...</td>\n",
              "      <td>Eli Roth</td>\n",
              "      <td>Lauren German, Heather Matarazzo, Bijou Philli...</td>\n",
              "      <td>2007</td>\n",
              "      <td>94</td>\n",
              "      <td>5.5</td>\n",
              "      <td>73152</td>\n",
              "      <td>17.540000</td>\n",
              "      <td>46.0</td>\n",
              "      <td>[three, american, college, students, studying,...</td>\n",
              "      <td>0.004840</td>\n",
              "      <td>-0.046548</td>\n",
              "      <td>-0.044319</td>\n",
              "      <td>-0.036256</td>\n",
              "      <td>-0.019382</td>\n",
              "    </tr>\n",
              "    <tr>\n",
              "      <th>997</th>\n",
              "      <td>998</td>\n",
              "      <td>Step Up 2: The Streets</td>\n",
              "      <td>Drama,Music,Romance</td>\n",
              "      <td>Romantic sparks occur between two dance studen...</td>\n",
              "      <td>Jon M. Chu</td>\n",
              "      <td>Robert Hoffman, Briana Evigan, Cassie Ventura,...</td>\n",
              "      <td>2008</td>\n",
              "      <td>98</td>\n",
              "      <td>6.2</td>\n",
              "      <td>70699</td>\n",
              "      <td>58.010000</td>\n",
              "      <td>50.0</td>\n",
              "      <td>[romantic, sparks, occur, between, two, dance,...</td>\n",
              "      <td>-0.145712</td>\n",
              "      <td>-0.039303</td>\n",
              "      <td>-0.100523</td>\n",
              "      <td>-0.010981</td>\n",
              "      <td>0.020828</td>\n",
              "    </tr>\n",
              "    <tr>\n",
              "      <th>998</th>\n",
              "      <td>999</td>\n",
              "      <td>Search Party</td>\n",
              "      <td>Adventure,Comedy</td>\n",
              "      <td>A pair of friends embark on a mission to reuni...</td>\n",
              "      <td>Scot Armstrong</td>\n",
              "      <td>Adam Pally, T.J. Miller, Thomas Middleditch,Sh...</td>\n",
              "      <td>2014</td>\n",
              "      <td>93</td>\n",
              "      <td>5.6</td>\n",
              "      <td>4881</td>\n",
              "      <td>82.956376</td>\n",
              "      <td>22.0</td>\n",
              "      <td>[a, pair, of, friends, embark, on, a, mission,...</td>\n",
              "      <td>-0.048197</td>\n",
              "      <td>-0.077285</td>\n",
              "      <td>-0.043909</td>\n",
              "      <td>-0.022356</td>\n",
              "      <td>-0.051014</td>\n",
              "    </tr>\n",
              "    <tr>\n",
              "      <th>999</th>\n",
              "      <td>1000</td>\n",
              "      <td>Nine Lives</td>\n",
              "      <td>Comedy,Family,Fantasy</td>\n",
              "      <td>A stuffy businessman finds himself trapped ins...</td>\n",
              "      <td>Barry Sonnenfeld</td>\n",
              "      <td>Kevin Spacey, Jennifer Garner, Robbie Amell,Ch...</td>\n",
              "      <td>2016</td>\n",
              "      <td>87</td>\n",
              "      <td>5.3</td>\n",
              "      <td>12435</td>\n",
              "      <td>19.640000</td>\n",
              "      <td>11.0</td>\n",
              "      <td>[a, stuffy, businessman, finds, himself, trapp...</td>\n",
              "      <td>-0.001452</td>\n",
              "      <td>-0.072548</td>\n",
              "      <td>-0.088201</td>\n",
              "      <td>0.012202</td>\n",
              "      <td>0.024790</td>\n",
              "    </tr>\n",
              "  </tbody>\n",
              "</table>\n",
              "<p>1000 rows × 18 columns</p>\n",
              "</div>\n",
              "      <button class=\"colab-df-convert\" onclick=\"convertToInteractive('df-b051e436-0de3-4966-81af-bf85967cfa52')\"\n",
              "              title=\"Convert this dataframe to an interactive table.\"\n",
              "              style=\"display:none;\">\n",
              "        \n",
              "  <svg xmlns=\"http://www.w3.org/2000/svg\" height=\"24px\"viewBox=\"0 0 24 24\"\n",
              "       width=\"24px\">\n",
              "    <path d=\"M0 0h24v24H0V0z\" fill=\"none\"/>\n",
              "    <path d=\"M18.56 5.44l.94 2.06.94-2.06 2.06-.94-2.06-.94-.94-2.06-.94 2.06-2.06.94zm-11 1L8.5 8.5l.94-2.06 2.06-.94-2.06-.94L8.5 2.5l-.94 2.06-2.06.94zm10 10l.94 2.06.94-2.06 2.06-.94-2.06-.94-.94-2.06-.94 2.06-2.06.94z\"/><path d=\"M17.41 7.96l-1.37-1.37c-.4-.4-.92-.59-1.43-.59-.52 0-1.04.2-1.43.59L10.3 9.45l-7.72 7.72c-.78.78-.78 2.05 0 2.83L4 21.41c.39.39.9.59 1.41.59.51 0 1.02-.2 1.41-.59l7.78-7.78 2.81-2.81c.8-.78.8-2.07 0-2.86zM5.41 20L4 18.59l7.72-7.72 1.47 1.35L5.41 20z\"/>\n",
              "  </svg>\n",
              "      </button>\n",
              "      \n",
              "  <style>\n",
              "    .colab-df-container {\n",
              "      display:flex;\n",
              "      flex-wrap:wrap;\n",
              "      gap: 12px;\n",
              "    }\n",
              "\n",
              "    .colab-df-convert {\n",
              "      background-color: #E8F0FE;\n",
              "      border: none;\n",
              "      border-radius: 50%;\n",
              "      cursor: pointer;\n",
              "      display: none;\n",
              "      fill: #1967D2;\n",
              "      height: 32px;\n",
              "      padding: 0 0 0 0;\n",
              "      width: 32px;\n",
              "    }\n",
              "\n",
              "    .colab-df-convert:hover {\n",
              "      background-color: #E2EBFA;\n",
              "      box-shadow: 0px 1px 2px rgba(60, 64, 67, 0.3), 0px 1px 3px 1px rgba(60, 64, 67, 0.15);\n",
              "      fill: #174EA6;\n",
              "    }\n",
              "\n",
              "    [theme=dark] .colab-df-convert {\n",
              "      background-color: #3B4455;\n",
              "      fill: #D2E3FC;\n",
              "    }\n",
              "\n",
              "    [theme=dark] .colab-df-convert:hover {\n",
              "      background-color: #434B5C;\n",
              "      box-shadow: 0px 1px 3px 1px rgba(0, 0, 0, 0.15);\n",
              "      filter: drop-shadow(0px 1px 2px rgba(0, 0, 0, 0.3));\n",
              "      fill: #FFFFFF;\n",
              "    }\n",
              "  </style>\n",
              "\n",
              "      <script>\n",
              "        const buttonEl =\n",
              "          document.querySelector('#df-b051e436-0de3-4966-81af-bf85967cfa52 button.colab-df-convert');\n",
              "        buttonEl.style.display =\n",
              "          google.colab.kernel.accessAllowed ? 'block' : 'none';\n",
              "\n",
              "        async function convertToInteractive(key) {\n",
              "          const element = document.querySelector('#df-b051e436-0de3-4966-81af-bf85967cfa52');\n",
              "          const dataTable =\n",
              "            await google.colab.kernel.invokeFunction('convertToInteractive',\n",
              "                                                     [key], {});\n",
              "          if (!dataTable) return;\n",
              "\n",
              "          const docLinkHtml = 'Like what you see? Visit the ' +\n",
              "            '<a target=\"_blank\" href=https://colab.research.google.com/notebooks/data_table.ipynb>data table notebook</a>'\n",
              "            + ' to learn more about interactive tables.';\n",
              "          element.innerHTML = '';\n",
              "          dataTable['output_type'] = 'display_data';\n",
              "          await google.colab.output.renderOutput(dataTable, element);\n",
              "          const docLink = document.createElement('div');\n",
              "          docLink.innerHTML = docLinkHtml;\n",
              "          element.appendChild(docLink);\n",
              "        }\n",
              "      </script>\n",
              "    </div>\n",
              "  </div>\n",
              "  "
            ]
          },
          "metadata": {},
          "execution_count": 18
        }
      ],
      "source": [
        "result"
      ]
    },
    {
      "cell_type": "code",
      "execution_count": 19,
      "metadata": {
        "tags": [],
        "id": "2nTHmoEaR5f5",
        "colab": {
          "base_uri": "https://localhost:8080/",
          "height": 143
        },
        "outputId": "05b48032-b3ca-432d-f6f5-cc67d0dc400c"
      },
      "outputs": [
        {
          "output_type": "execute_result",
          "data": {
            "text/plain": [
              "   Runtime (Minutes)  Year  Rating   Votes  Revenue (Millions)  Metascore  \\\n",
              "0                121  2014     8.1  757074              333.13       76.0   \n",
              "1                124  2012     7.0  485820              126.46       65.0   \n",
              "2                117  2016     7.3  157606              138.12       62.0   \n",
              "\n",
              "         v1        v2        v3        v4        v5  \n",
              "0 -0.087869 -0.069789  0.063027  0.058677 -0.089271  \n",
              "1 -0.012825  0.038783  0.074296 -0.024311 -0.126780  \n",
              "2 -0.122349 -0.050147  0.042454 -0.119388 -0.123546  "
            ],
            "text/html": [
              "\n",
              "  <div id=\"df-70c32b56-d21a-47ec-88ad-2b6a512bd1ee\">\n",
              "    <div class=\"colab-df-container\">\n",
              "      <div>\n",
              "<style scoped>\n",
              "    .dataframe tbody tr th:only-of-type {\n",
              "        vertical-align: middle;\n",
              "    }\n",
              "\n",
              "    .dataframe tbody tr th {\n",
              "        vertical-align: top;\n",
              "    }\n",
              "\n",
              "    .dataframe thead th {\n",
              "        text-align: right;\n",
              "    }\n",
              "</style>\n",
              "<table border=\"1\" class=\"dataframe\">\n",
              "  <thead>\n",
              "    <tr style=\"text-align: right;\">\n",
              "      <th></th>\n",
              "      <th>Runtime (Minutes)</th>\n",
              "      <th>Year</th>\n",
              "      <th>Rating</th>\n",
              "      <th>Votes</th>\n",
              "      <th>Revenue (Millions)</th>\n",
              "      <th>Metascore</th>\n",
              "      <th>v1</th>\n",
              "      <th>v2</th>\n",
              "      <th>v3</th>\n",
              "      <th>v4</th>\n",
              "      <th>v5</th>\n",
              "    </tr>\n",
              "  </thead>\n",
              "  <tbody>\n",
              "    <tr>\n",
              "      <th>0</th>\n",
              "      <td>121</td>\n",
              "      <td>2014</td>\n",
              "      <td>8.1</td>\n",
              "      <td>757074</td>\n",
              "      <td>333.13</td>\n",
              "      <td>76.0</td>\n",
              "      <td>-0.087869</td>\n",
              "      <td>-0.069789</td>\n",
              "      <td>0.063027</td>\n",
              "      <td>0.058677</td>\n",
              "      <td>-0.089271</td>\n",
              "    </tr>\n",
              "    <tr>\n",
              "      <th>1</th>\n",
              "      <td>124</td>\n",
              "      <td>2012</td>\n",
              "      <td>7.0</td>\n",
              "      <td>485820</td>\n",
              "      <td>126.46</td>\n",
              "      <td>65.0</td>\n",
              "      <td>-0.012825</td>\n",
              "      <td>0.038783</td>\n",
              "      <td>0.074296</td>\n",
              "      <td>-0.024311</td>\n",
              "      <td>-0.126780</td>\n",
              "    </tr>\n",
              "    <tr>\n",
              "      <th>2</th>\n",
              "      <td>117</td>\n",
              "      <td>2016</td>\n",
              "      <td>7.3</td>\n",
              "      <td>157606</td>\n",
              "      <td>138.12</td>\n",
              "      <td>62.0</td>\n",
              "      <td>-0.122349</td>\n",
              "      <td>-0.050147</td>\n",
              "      <td>0.042454</td>\n",
              "      <td>-0.119388</td>\n",
              "      <td>-0.123546</td>\n",
              "    </tr>\n",
              "  </tbody>\n",
              "</table>\n",
              "</div>\n",
              "      <button class=\"colab-df-convert\" onclick=\"convertToInteractive('df-70c32b56-d21a-47ec-88ad-2b6a512bd1ee')\"\n",
              "              title=\"Convert this dataframe to an interactive table.\"\n",
              "              style=\"display:none;\">\n",
              "        \n",
              "  <svg xmlns=\"http://www.w3.org/2000/svg\" height=\"24px\"viewBox=\"0 0 24 24\"\n",
              "       width=\"24px\">\n",
              "    <path d=\"M0 0h24v24H0V0z\" fill=\"none\"/>\n",
              "    <path d=\"M18.56 5.44l.94 2.06.94-2.06 2.06-.94-2.06-.94-.94-2.06-.94 2.06-2.06.94zm-11 1L8.5 8.5l.94-2.06 2.06-.94-2.06-.94L8.5 2.5l-.94 2.06-2.06.94zm10 10l.94 2.06.94-2.06 2.06-.94-2.06-.94-.94-2.06-.94 2.06-2.06.94z\"/><path d=\"M17.41 7.96l-1.37-1.37c-.4-.4-.92-.59-1.43-.59-.52 0-1.04.2-1.43.59L10.3 9.45l-7.72 7.72c-.78.78-.78 2.05 0 2.83L4 21.41c.39.39.9.59 1.41.59.51 0 1.02-.2 1.41-.59l7.78-7.78 2.81-2.81c.8-.78.8-2.07 0-2.86zM5.41 20L4 18.59l7.72-7.72 1.47 1.35L5.41 20z\"/>\n",
              "  </svg>\n",
              "      </button>\n",
              "      \n",
              "  <style>\n",
              "    .colab-df-container {\n",
              "      display:flex;\n",
              "      flex-wrap:wrap;\n",
              "      gap: 12px;\n",
              "    }\n",
              "\n",
              "    .colab-df-convert {\n",
              "      background-color: #E8F0FE;\n",
              "      border: none;\n",
              "      border-radius: 50%;\n",
              "      cursor: pointer;\n",
              "      display: none;\n",
              "      fill: #1967D2;\n",
              "      height: 32px;\n",
              "      padding: 0 0 0 0;\n",
              "      width: 32px;\n",
              "    }\n",
              "\n",
              "    .colab-df-convert:hover {\n",
              "      background-color: #E2EBFA;\n",
              "      box-shadow: 0px 1px 2px rgba(60, 64, 67, 0.3), 0px 1px 3px 1px rgba(60, 64, 67, 0.15);\n",
              "      fill: #174EA6;\n",
              "    }\n",
              "\n",
              "    [theme=dark] .colab-df-convert {\n",
              "      background-color: #3B4455;\n",
              "      fill: #D2E3FC;\n",
              "    }\n",
              "\n",
              "    [theme=dark] .colab-df-convert:hover {\n",
              "      background-color: #434B5C;\n",
              "      box-shadow: 0px 1px 3px 1px rgba(0, 0, 0, 0.15);\n",
              "      filter: drop-shadow(0px 1px 2px rgba(0, 0, 0, 0.3));\n",
              "      fill: #FFFFFF;\n",
              "    }\n",
              "  </style>\n",
              "\n",
              "      <script>\n",
              "        const buttonEl =\n",
              "          document.querySelector('#df-70c32b56-d21a-47ec-88ad-2b6a512bd1ee button.colab-df-convert');\n",
              "        buttonEl.style.display =\n",
              "          google.colab.kernel.accessAllowed ? 'block' : 'none';\n",
              "\n",
              "        async function convertToInteractive(key) {\n",
              "          const element = document.querySelector('#df-70c32b56-d21a-47ec-88ad-2b6a512bd1ee');\n",
              "          const dataTable =\n",
              "            await google.colab.kernel.invokeFunction('convertToInteractive',\n",
              "                                                     [key], {});\n",
              "          if (!dataTable) return;\n",
              "\n",
              "          const docLinkHtml = 'Like what you see? Visit the ' +\n",
              "            '<a target=\"_blank\" href=https://colab.research.google.com/notebooks/data_table.ipynb>data table notebook</a>'\n",
              "            + ' to learn more about interactive tables.';\n",
              "          element.innerHTML = '';\n",
              "          dataTable['output_type'] = 'display_data';\n",
              "          await google.colab.output.renderOutput(dataTable, element);\n",
              "          const docLink = document.createElement('div');\n",
              "          docLink.innerHTML = docLinkHtml;\n",
              "          element.appendChild(docLink);\n",
              "        }\n",
              "      </script>\n",
              "    </div>\n",
              "  </div>\n",
              "  "
            ]
          },
          "metadata": {},
          "execution_count": 19
        }
      ],
      "source": [
        "# переопределим датасет, оставив только важное\n",
        "\n",
        "data_sm = result[['Runtime (Minutes)',\"Year\",\n",
        "                'Rating', 'Votes',\n",
        "                'Revenue (Millions)','Metascore',\"v1\",\"v2\",\"v3\",\"v4\",\"v5\"]\n",
        "              ]\n",
        "\n",
        "\n",
        "data_sm.head(3)"
      ]
    },
    {
      "cell_type": "markdown",
      "metadata": {
        "id": "Z2a4nt4aR5f6"
      },
      "source": [
        "## Подготавливаем матрицы"
      ]
    },
    {
      "cell_type": "code",
      "execution_count": 20,
      "metadata": {
        "tags": [],
        "id": "2bRTmhj_R5f6",
        "colab": {
          "base_uri": "https://localhost:8080/",
          "height": 260
        },
        "outputId": "982f3378-96c6-42ab-bb53-51f09e4b1522"
      },
      "outputs": [
        {
          "output_type": "display_data",
          "data": {
            "text/plain": [
              "array([[ 1.21000000e+02,  2.01400000e+03,  7.57074000e+05, ...,\n",
              "         6.30268604e-02,  5.86773604e-02, -8.92710611e-02],\n",
              "       [ 1.24000000e+02,  2.01200000e+03,  4.85820000e+05, ...,\n",
              "         7.42958561e-02, -2.43106820e-02, -1.26779616e-01],\n",
              "       [ 1.17000000e+02,  2.01600000e+03,  1.57606000e+05, ...,\n",
              "         4.24537063e-02, -1.19388312e-01, -1.23545744e-01],\n",
              "       ...,\n",
              "       [ 9.80000000e+01,  2.00800000e+03,  7.06990000e+04, ...,\n",
              "        -1.00522608e-01, -1.09814741e-02,  2.08283085e-02],\n",
              "       [ 9.30000000e+01,  2.01400000e+03,  4.88100000e+03, ...,\n",
              "        -4.39092591e-02, -2.23561339e-02, -5.10135554e-02],\n",
              "       [ 8.70000000e+01,  2.01600000e+03,  1.24350000e+04, ...,\n",
              "        -8.82013142e-02,  1.22023802e-02,  2.47897934e-02]])"
            ]
          },
          "metadata": {}
        },
        {
          "output_type": "display_data",
          "data": {
            "text/plain": [
              "(1000, 10)"
            ]
          },
          "metadata": {}
        }
      ],
      "source": [
        "# определяем X и y\n",
        "\n",
        "X = data_sm.drop([\"Rating\"],axis=1).values \n",
        "\n",
        "display(X, X.shape)"
      ]
    },
    {
      "cell_type": "code",
      "execution_count": 21,
      "metadata": {
        "id": "DBTjA1LCR5f6",
        "colab": {
          "base_uri": "https://localhost:8080/"
        },
        "outputId": "df629bfa-ce8d-4a18-b45e-48c0063e0cfd"
      },
      "outputs": [
        {
          "output_type": "execute_result",
          "data": {
            "text/plain": [
              "Runtime (Minutes)     False\n",
              "Year                  False\n",
              "Rating                False\n",
              "Votes                 False\n",
              "Revenue (Millions)    False\n",
              "Metascore             False\n",
              "v1                    False\n",
              "v2                    False\n",
              "v3                    False\n",
              "v4                    False\n",
              "v5                    False\n",
              "dtype: bool"
            ]
          },
          "metadata": {},
          "execution_count": 21
        }
      ],
      "source": [
        "data_sm.isna().any()"
      ]
    },
    {
      "cell_type": "code",
      "execution_count": 22,
      "metadata": {
        "tags": [],
        "id": "BAWOsK0TR5f6",
        "colab": {
          "base_uri": "https://localhost:8080/"
        },
        "outputId": "bc187a27-a91e-4e76-e7b7-ec81e37d70a8"
      },
      "outputs": [
        {
          "output_type": "execute_result",
          "data": {
            "text/plain": [
              "(1000,)"
            ]
          },
          "metadata": {},
          "execution_count": 22
        }
      ],
      "source": [
        "y = data_sm['Rating'].values # отдельно вынесли массив со значениями скорости ветра\n",
        "y.shape"
      ]
    },
    {
      "cell_type": "markdown",
      "metadata": {
        "id": "vJLUJzn_R5f6"
      },
      "source": [
        "Иногда бывает полезно [нормализовать](https://en.wikipedia.org/wiki/Normalization_(statistics)) данные: это позволяет исправить ситуацию, когда признаки представлены в разных единацах измерения. \n",
        "Для этого используется StandardScaler. "
      ]
    },
    {
      "cell_type": "markdown",
      "metadata": {
        "id": "VnYlQ1UjR5f6"
      },
      "source": [
        "До нормализации:"
      ]
    },
    {
      "cell_type": "code",
      "execution_count": 23,
      "metadata": {
        "id": "krI1VgNjR5f6",
        "colab": {
          "base_uri": "https://localhost:8080/"
        },
        "outputId": "68907a5e-b295-4f06-b049-aae9c1aef896"
      },
      "outputs": [
        {
          "output_type": "execute_result",
          "data": {
            "text/plain": [
              "[121.0,\n",
              " 2014.0,\n",
              " 757074.0,\n",
              " 333.13,\n",
              " 76.0,\n",
              " -0.08786902576684952,\n",
              " -0.06978936493396759,\n",
              " 0.06302686035633087,\n",
              " 0.05867736041545868,\n",
              " -0.08927106112241745]"
            ]
          },
          "metadata": {},
          "execution_count": 23
        }
      ],
      "source": [
        "list(X[0])"
      ]
    },
    {
      "cell_type": "code",
      "execution_count": 24,
      "metadata": {
        "id": "5M5h2oKaR5f6"
      },
      "outputs": [],
      "source": [
        "# использзуем стандартизатор\n",
        "sc = StandardScaler()\n",
        "\n",
        "X_train, X_test, y_train, y_test = train_test_split(sc.fit_transform(X), y, random_state=42)"
      ]
    },
    {
      "cell_type": "markdown",
      "metadata": {
        "id": "EwVs8vAzR5f6"
      },
      "source": [
        "После:"
      ]
    },
    {
      "cell_type": "code",
      "execution_count": 25,
      "metadata": {
        "id": "nBkCXZyYR5f7",
        "colab": {
          "base_uri": "https://localhost:8080/"
        },
        "outputId": "e0c08b6f-715e-4bff-ce3c-6247ded514a1"
      },
      "outputs": [
        {
          "output_type": "execute_result",
          "data": {
            "text/plain": [
              "[0.4163497512303056,\n",
              " 0.37979525138136244,\n",
              " 3.1126899627963738,\n",
              " 2.5961363010556906,\n",
              " 1.0233613578368184,\n",
              " -0.024610670701774227,\n",
              " 0.2084134694678601,\n",
              " 1.5890265014579448,\n",
              " 2.0306942683403677,\n",
              " 0.0508871906909454]"
            ]
          },
          "metadata": {},
          "execution_count": 25
        }
      ],
      "source": [
        "list(sc.fit_transform(X)[0])"
      ]
    },
    {
      "cell_type": "markdown",
      "metadata": {
        "id": "1F8U88exR5f7"
      },
      "source": [
        "теперь с данными удобнее работать и обучать"
      ]
    },
    {
      "cell_type": "code",
      "execution_count": 26,
      "metadata": {
        "tags": [],
        "id": "dHqj0_U8R5f7",
        "colab": {
          "base_uri": "https://localhost:8080/"
        },
        "outputId": "635d3cf1-ed48-4ef1-cf60-0e9555fcda40"
      },
      "outputs": [
        {
          "output_type": "execute_result",
          "data": {
            "text/plain": [
              "Ridge()"
            ]
          },
          "metadata": {},
          "execution_count": 26
        }
      ],
      "source": [
        "# задаем модель регрессора\n",
        "# силу регуляризации можно варьировать параметром alpha\n",
        "regressor = Ridge() \n",
        "\n",
        "\n",
        "# обучаем\n",
        "regressor.fit(X_train, y_train)"
      ]
    },
    {
      "cell_type": "code",
      "execution_count": 27,
      "metadata": {
        "id": "CwnbXPYXR5f7"
      },
      "outputs": [],
      "source": [
        "# давайте предскажем результат для тестовой выборки\n",
        "\n",
        "y_preds = regressor.predict(X_test)"
      ]
    },
    {
      "cell_type": "markdown",
      "metadata": {
        "id": "RITJLbIgR5f7"
      },
      "source": [
        "### оценка результатов алгоритма\n",
        "\n",
        "В качестве метрики будем использовать [среднюю абсолютную ошибку](https://www.youtube.com/watch?v=ZejnwbcU8nw). Она показывает отклонение от правильного ответа в тех же единах измерения\n",
        "\n",
        "*(а вообще есть [разные способы](https://towardsdatascience.com/what-are-the-best-metrics-to-evaluate-your-regression-model-418ca481755b))*"
      ]
    },
    {
      "cell_type": "code",
      "execution_count": 28,
      "metadata": {
        "id": "74Y_6aBdR5f7",
        "colab": {
          "base_uri": "https://localhost:8080/"
        },
        "outputId": "5005f811-1abb-4c88-aaa3-93a853193a93"
      },
      "outputs": [
        {
          "output_type": "execute_result",
          "data": {
            "text/plain": [
              "0.49074852360444376"
            ]
          },
          "metadata": {},
          "execution_count": 28
        }
      ],
      "source": [
        "mean_absolute_error(y_test, y_preds) "
      ]
    },
    {
      "cell_type": "markdown",
      "metadata": {
        "id": "vNc3MRFQR5f7"
      },
      "source": [
        "Попробуйте разные значения для параметра регуляризации alpha при обучении модели. Как они влияют на величину ошибки?"
      ]
    },
    {
      "cell_type": "code",
      "source": [
        "def clean_data(text):\n",
        "  wordsFiltered = []\n",
        "  text = word_tokenize(text)\n",
        "  for w in text:\n",
        "    if w not in stopWords and w not in string.punctuation:\n",
        "        wordsFiltered.append(lemmatizer.lemmatize(w.lower()))\n",
        "  return wordsFiltered\n",
        "\n",
        "def preproc(preproc):\n",
        "  if preproc == True:\n",
        "    data[\"text\"] = data.Description.apply(clean_data) \n",
        "  else:\n",
        "    data[\"text\"] = data.Description.apply(lambda x: x.lower().split()) \n",
        "  input_text = list(data.text.values)\n",
        "  documents = [TaggedDocument(doc, [i]) for i, doc in enumerate(input_text)]\n",
        "  return documents\n",
        "\n",
        "\n",
        "def evaluate_Doc(documents, vector_size, min_count, epochs):\n",
        "  model = Doc2Vec(documents, \n",
        "                  vector_size=vector_size, \n",
        "                  min_count = min_count, \n",
        "                  epochs = epochs,\n",
        "                  seed = 42)\n",
        "  vectors = []\n",
        "  for x in documents:\n",
        "      vec = list(model[x.tags][0])\n",
        "      vectors.append(vec)\n",
        "  split_df = pd.DataFrame(vectors,\n",
        "                          columns=[x for x in range(vector_size)])\n",
        "  data_sm = data[['Runtime (Minutes)',\"Year\",\n",
        "                  'Rating', 'Votes',\n",
        "                  'Revenue (Millions)','Metascore']].join(split_df, how='left')\n",
        "  X = data_sm.drop([\"Rating\"],axis=1).values \n",
        "  y = data_sm['Rating'].values \n",
        "\n",
        "  return X, y\n",
        "\n",
        "def evaluate_regression(model, X, y): \n",
        "  sc = StandardScaler()\n",
        "  X_train, X_test, y_train, y_test = train_test_split(sc.fit_transform(X), y, random_state=42)\n",
        "  model.fit(X_train, y_train)\n",
        "  y_preds = model.predict(X_test)\n",
        "  return round(mean_absolute_error(y_test, y_preds), 3), round(mean_squared_error(y_test, y_preds), 3), round(math.sqrt(mean_squared_error(y_test, y_preds)), 3)"
      ],
      "metadata": {
        "id": "bJ3JkbHzf5jV"
      },
      "execution_count": 122,
      "outputs": []
    },
    {
      "cell_type": "markdown",
      "source": [
        "# Параметр альфа для Ridge и Lasso"
      ],
      "metadata": {
        "id": "tbnXBOLA8e-X"
      }
    },
    {
      "cell_type": "code",
      "source": [
        "scores_ridge = []\n",
        "index = [0.0001, 0.001, 0.01, 0.1]\n",
        "for alpha in index:\n",
        "  X, y = evaluate_Doc(documents = preproc(False), vector_size = 4, min_count = 2, epochs = 20)\n",
        "  scores_ridge.append(evaluate_regression(Ridge(alpha = alpha), X, y)[2])\n",
        "  \n",
        "scores_lasso = []\n",
        "index = [0.0001, 0.001, 0.01, 0.1]\n",
        "for alpha in index:\n",
        "  X, y = evaluate_Doc(documents = preproc(False), vector_size = 4, min_count = 2, epochs = 20)\n",
        "  scores_lasso.append(evaluate_regression(Lasso(alpha = alpha), X, y)[2])\n",
        "  \n",
        "plt.plot(index, scores_lasso)\n",
        "plt.plot(index, scores_ridge)\n",
        "plt.legend(['lasso', 'ridge'], loc=2)\n",
        "plt.show()"
      ],
      "metadata": {
        "colab": {
          "base_uri": "https://localhost:8080/",
          "height": 269
        },
        "id": "l3Nq9_L_2eMm",
        "outputId": "182c9ed2-77a7-40a1-bc4a-3d7e7acd94f4"
      },
      "execution_count": 103,
      "outputs": [
        {
          "output_type": "display_data",
          "data": {
            "text/plain": [
              "<Figure size 432x288 with 1 Axes>"
            ],
            "image/png": "[encoded data removed]"
          },
          "metadata": {
            "needs_background": "light"
          }
        }
      ]
    },
    {
      "cell_type": "markdown",
      "source": [
        "Lasso демонстрирует лучшие результаты с параметром 0 < альфа < 1, а Ridge на имеющихся данных показывает примерно одинаковые значения score вне зависимости от параметра альфа."
      ],
      "metadata": {
        "id": "QlCXlyPGB0gX"
      }
    },
    {
      "cell_type": "markdown",
      "source": [
        "## Параметры Doc2vec"
      ],
      "metadata": {
        "id": "u2pWxzVvGWsf"
      }
    },
    {
      "cell_type": "markdown",
      "source": [
        "\n",
        "\n",
        "*   При увеличении размера вектора (vector_size = 32), Lasso демонстрирует лучшие результаты по сравнению с другими моделями, поскольку умеет занулять ненужные фичи у вектора.\n",
        "*   Лучшиие результаты показывают данные без специального препроцессинга (удаление пунктуации, стопслов, лемматизация). Скорее всего это так из-за маленького размера словаря.\n",
        "\n",
        "\n"
      ],
      "metadata": {
        "id": "NOhg0heC6DNs"
      }
    },
    {
      "cell_type": "code",
      "source": [
        "print('vector_size =', 4)\n",
        "for model in [LinearRegression(), Ridge(alpha = 0.1), Lasso(alpha = 0.01)]:\n",
        "  scores_row = []\n",
        "  for prep in [True, False]:\n",
        "    X, y = evaluate_Doc(documents = preproc(prep), vector_size = 4, min_count = 2, epochs = 20)\n",
        "    scores_row.append(evaluate_regression(model, X, y))\n",
        "  print('model:', model)\n",
        "  data_results =  pd.DataFrame(scores_row, columns = ['MAE', 'MSE', 'RMSE'], index = ['prep_yes', 'prep_no'])\n",
        "  print(data_results, '\\n')"
      ],
      "metadata": {
        "colab": {
          "base_uri": "https://localhost:8080/"
        },
        "id": "wtW_nrQo74TC",
        "outputId": "66440bd7-f784-4d50-eec1-698650196105"
      },
      "execution_count": 79,
      "outputs": [
        {
          "output_type": "stream",
          "name": "stdout",
          "text": [
            "vector_size = 4\n",
            "model: LinearRegression()\n",
            "            MAE   MSE   RMSE\n",
            "prep_yes  0.491  0.47  0.686\n",
            "prep_no   0.489  0.47  0.686 \n",
            "\n",
            "model: Ridge(alpha=0.1)\n",
            "            MAE    MSE   RMSE\n",
            "prep_yes  0.491  0.471  0.686\n",
            "prep_no   0.490  0.471  0.686 \n",
            "\n",
            "model: Lasso(alpha=0.01)\n",
            "            MAE    MSE   RMSE\n",
            "prep_yes  0.489  0.468  0.684\n",
            "prep_no   0.488  0.468  0.684 \n",
            "\n"
          ]
        }
      ]
    },
    {
      "cell_type": "code",
      "source": [
        "print('vector_size =', 32)\n",
        "for model in [LinearRegression(), Ridge(alpha = 0.1), Lasso(alpha = 0.01)]:\n",
        "  scores_row = []\n",
        "  for prep in [True, False]:\n",
        "    X, y = evaluate_Doc(documents = preproc(prep), vector_size = 32, min_count = 2, epochs = 20)\n",
        "    scores_row.append(evaluate_regression(model, X, y))\n",
        "  print('model:', model)\n",
        "  data_results =  pd.DataFrame(scores_row, columns = ['MAE', 'MSE', 'RMSE'], index = ['prep_yes', 'prep_no'])\n",
        "  print(data_results, '\\n')"
      ],
      "metadata": {
        "colab": {
          "base_uri": "https://localhost:8080/"
        },
        "id": "kMvbQNSzs1kt",
        "outputId": "6055d34c-d0cc-4618-f346-eebf01466152"
      },
      "execution_count": 80,
      "outputs": [
        {
          "output_type": "stream",
          "name": "stdout",
          "text": [
            "vector_size = 32\n",
            "model: LinearRegression()\n",
            "            MAE    MSE   RMSE\n",
            "prep_yes  0.511  0.497  0.705\n",
            "prep_no   0.508  0.492  0.702 \n",
            "\n",
            "model: Ridge(alpha=0.1)\n",
            "            MAE    MSE   RMSE\n",
            "prep_yes  0.512  0.498  0.706\n",
            "prep_no   0.510  0.495  0.703 \n",
            "\n",
            "model: Lasso(alpha=0.01)\n",
            "            MAE    MSE   RMSE\n",
            "prep_yes  0.492  0.468  0.684\n",
            "prep_no   0.488  0.468  0.684 \n",
            "\n"
          ]
        }
      ]
    },
    {
      "cell_type": "markdown",
      "source": [
        "Увеличение значения минимальной частоты встречаемости слова (min_count = 10) почти не влияет на качество обучения:"
      ],
      "metadata": {
        "id": "wIAgHRxXETDE"
      }
    },
    {
      "cell_type": "code",
      "source": [
        "print('min_count =', 10)\n",
        "for model in [LinearRegression(), Ridge(alpha = 0.1), Lasso(alpha = 0.01)]:\n",
        "  scores_row = []\n",
        "  for prep in [True, False]:\n",
        "    X, y = evaluate_Doc(documents = preproc(prep), vector_size = 4, min_count = 10, epochs = 20)\n",
        "    scores_row.append(evaluate_regression(model, X, y))\n",
        "  print('model:', model)\n",
        "  data_results =  pd.DataFrame(scores_row, columns = ['MAE', 'MSE', 'RMSE'], index = ['prep_yes', 'prep_no'])\n",
        "  print(data_results, '\\n')"
      ],
      "metadata": {
        "colab": {
          "base_uri": "https://localhost:8080/"
        },
        "id": "26bHj-PDDvhx",
        "outputId": "52f1d23d-cc8a-409d-d473-eb6f9f56278a"
      },
      "execution_count": 112,
      "outputs": [
        {
          "output_type": "stream",
          "name": "stdout",
          "text": [
            "min_count = 10\n",
            "model: LinearRegression()\n",
            "            MAE    MSE   RMSE\n",
            "prep_yes  0.487  0.469  0.685\n",
            "prep_no   0.487  0.468  0.684 \n",
            "\n",
            "model: Ridge(alpha=0.1)\n",
            "            MAE    MSE   RMSE\n",
            "prep_yes  0.485  0.467  0.683\n",
            "prep_no   0.488  0.466  0.683 \n",
            "\n",
            "model: Lasso(alpha=0.01)\n",
            "            MAE    MSE   RMSE\n",
            "prep_yes  0.486  0.468  0.684\n",
            "prep_no   0.487  0.466  0.683 \n",
            "\n"
          ]
        }
      ]
    },
    {
      "cell_type": "markdown",
      "source": [
        "Увеличение количества эпох при обучении улучшает значения метрик, причем данные с препроцессингом демонстрируют лучшие результаты, чем данные без препроцессинга:"
      ],
      "metadata": {
        "id": "tRhfq8_dFJeS"
      }
    },
    {
      "cell_type": "code",
      "source": [
        "print('epochs = ', 100)\n",
        "for model in [LinearRegression(), Ridge(alpha = 0.1), Lasso(alpha = 0.01)]:\n",
        "  scores_row = []\n",
        "  for prep in [True, False]:\n",
        "    X, y = evaluate_Doc(documents = preproc(prep), vector_size = 4, min_count = 2, epochs = 100)\n",
        "    scores_row.append(evaluate_regression(model, X, y))\n",
        "  print('model:', model)\n",
        "  data_results =  pd.DataFrame(scores_row, columns = ['MAE', 'MSE', 'RMSE'], index = ['prep_yes', 'prep_no'])\n",
        "  print(data_results, '\\n')"
      ],
      "metadata": {
        "colab": {
          "base_uri": "https://localhost:8080/"
        },
        "id": "5GgACn8VE_pc",
        "outputId": "3d3f63a7-e56b-43db-c21b-6caad1eba783"
      },
      "execution_count": 117,
      "outputs": [
        {
          "output_type": "stream",
          "name": "stdout",
          "text": [
            "epochs =  100\n",
            "model: LinearRegression()\n",
            "            MAE    MSE   RMSE\n",
            "prep_yes  0.486  0.465  0.682\n",
            "prep_no   0.492  0.473  0.688 \n",
            "\n",
            "model: Ridge(alpha=0.1)\n",
            "            MAE    MSE   RMSE\n",
            "prep_yes  0.484  0.463  0.680\n",
            "prep_no   0.493  0.470  0.686 \n",
            "\n",
            "model: Lasso(alpha=0.01)\n",
            "            MAE    MSE   RMSE\n",
            "prep_yes  0.486  0.465  0.682\n",
            "prep_no   0.487  0.471  0.686 \n",
            "\n"
          ]
        }
      ]
    },
    {
      "cell_type": "markdown",
      "source": [
        "Итог: Существенно улучшить значения метрик изменением гиперпараметров и препроцессингом у меня не получилось. Основные выводы:\n",
        "*   При разреженных векторах лучше использовать Lasso\n",
        "*   Ridge полезен при большом наборе данных (чтобы избежать переобучения) и не имеет серьезного преимущества по сравнению с линейной регрессией на маленьком датасете.\n",
        "*   Параметр, который оказал существенное влияние на метрики: количество эпох в модели Doc2vec.\n",
        "\n",
        "\n",
        "\n",
        "\n",
        "\n"
      ],
      "metadata": {
        "id": "OIq5OK8sIzIO"
      }
    },
    {
      "cell_type": "code",
      "source": [],
      "metadata": {
        "id": "ebSGldi1u3jE"
      },
      "execution_count": 104,
      "outputs": []
    },
    {
      "cell_type": "code",
      "source": [],
      "metadata": {
        "id": "3MC_srOKBD5N"
      },
      "execution_count": null,
      "outputs": []
    }
  ],
  "metadata": {
    "kernelspec": {
      "display_name": "Python 3 (ipykernel)",
      "language": "python",
      "name": "python3"
    },
    "language_info": {
      "codemirror_mode": {
        "name": "ipython",
        "version": 3
      },
      "file_extension": ".py",
      "mimetype": "text/x-python",
      "name": "python",
      "nbconvert_exporter": "python",
      "pygments_lexer": "ipython3",
      "version": "3.10.0"
    },
    "colab": {
      "provenance": [],
      "include_colab_link": true
    }
  },
  "nbformat": 4,
  "nbformat_minor": 0
}